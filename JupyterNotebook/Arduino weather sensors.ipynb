{
 "cells": [
  {
   "cell_type": "code",
   "execution_count": 1,
   "id": "4c47ef67",
   "metadata": {},
   "outputs": [],
   "source": [
    "from google.oauth2 import service_account\n",
    "import pandas_gbq as pd1\n",
    "import pandas as pd\n",
    "from datetime import datetime\n",
    "import pytz"
   ]
  },
  {
   "cell_type": "code",
   "execution_count": 45,
   "id": "e0327054",
   "metadata": {},
   "outputs": [
    {
     "name": "stderr",
     "output_type": "stream",
     "text": [
      "Downloading: 100%|██████████████████████████████████████████████████████████| 25856/25856 [00:00<00:00, 36952.94rows/s]\n"
     ]
    }
   ],
   "source": [
    "credentials = service_account.Credentials.from_service_account_file('weatherdata1.json')\n",
    "project_id = 'weatherdata1'\n",
    "df_sql = f\"\"\"SELECT\n",
    "                 *\n",
    "                 FROM\n",
    "                 `weatherdata1.WeatherSensorsData1.SensorsData1`\n",
    "                 ORDER BY\n",
    "                 DateTime ASC\n",
    "                 \"\"\"\n",
    "df = pd1.read_gbq(df_sql, project_id = project_id, dialect = 'standard', credentials = credentials)\n",
    "df['DateTime'] = pd.to_datetime(df['DateTime'])\n",
    "# df['DateTime'] = pd.to_datetime(df['DateTime'], format=\"%Y-%m-%d %H:%M:%S\")\n",
    "df['Date'] = df['DateTime'].dt.date\n",
    "# df['Date'] = pd.to_datetime(df['Date'])\n",
    "df['Hour'] = pd.to_datetime(df['DateTime']).dt.hour"
   ]
  },
  {
   "cell_type": "code",
   "execution_count": 46,
   "id": "9781a5fe",
   "metadata": {},
   "outputs": [
    {
     "data": {
      "text/html": [
       "<div>\n",
       "<style scoped>\n",
       "    .dataframe tbody tr th:only-of-type {\n",
       "        vertical-align: middle;\n",
       "    }\n",
       "\n",
       "    .dataframe tbody tr th {\n",
       "        vertical-align: top;\n",
       "    }\n",
       "\n",
       "    .dataframe thead th {\n",
       "        text-align: right;\n",
       "    }\n",
       "</style>\n",
       "<table border=\"1\" class=\"dataframe\">\n",
       "  <thead>\n",
       "    <tr style=\"text-align: right;\">\n",
       "      <th></th>\n",
       "      <th>DateTime</th>\n",
       "      <th>InsideHumidity</th>\n",
       "      <th>InsideTemperature</th>\n",
       "      <th>InsideCO2</th>\n",
       "      <th>Date</th>\n",
       "      <th>Hour</th>\n",
       "    </tr>\n",
       "  </thead>\n",
       "  <tbody>\n",
       "    <tr>\n",
       "      <th>0</th>\n",
       "      <td>2022-12-16 09:11:53</td>\n",
       "      <td>47.2</td>\n",
       "      <td>14.7</td>\n",
       "      <td>1554</td>\n",
       "      <td>2022-12-16</td>\n",
       "      <td>9</td>\n",
       "    </tr>\n",
       "    <tr>\n",
       "      <th>1</th>\n",
       "      <td>2022-12-16 09:11:54</td>\n",
       "      <td>47.2</td>\n",
       "      <td>14.7</td>\n",
       "      <td>1527</td>\n",
       "      <td>2022-12-16</td>\n",
       "      <td>9</td>\n",
       "    </tr>\n",
       "    <tr>\n",
       "      <th>2</th>\n",
       "      <td>2022-12-16 09:11:55</td>\n",
       "      <td>47.3</td>\n",
       "      <td>14.7</td>\n",
       "      <td>1505</td>\n",
       "      <td>2022-12-16</td>\n",
       "      <td>9</td>\n",
       "    </tr>\n",
       "    <tr>\n",
       "      <th>3</th>\n",
       "      <td>2022-12-16 09:11:56</td>\n",
       "      <td>47.3</td>\n",
       "      <td>14.7</td>\n",
       "      <td>1478</td>\n",
       "      <td>2022-12-16</td>\n",
       "      <td>9</td>\n",
       "    </tr>\n",
       "    <tr>\n",
       "      <th>4</th>\n",
       "      <td>2022-12-16 09:11:57</td>\n",
       "      <td>47.3</td>\n",
       "      <td>14.7</td>\n",
       "      <td>1455</td>\n",
       "      <td>2022-12-16</td>\n",
       "      <td>9</td>\n",
       "    </tr>\n",
       "  </tbody>\n",
       "</table>\n",
       "</div>"
      ],
      "text/plain": [
       "             DateTime  InsideHumidity  InsideTemperature  InsideCO2  \\\n",
       "0 2022-12-16 09:11:53            47.2               14.7       1554   \n",
       "1 2022-12-16 09:11:54            47.2               14.7       1527   \n",
       "2 2022-12-16 09:11:55            47.3               14.7       1505   \n",
       "3 2022-12-16 09:11:56            47.3               14.7       1478   \n",
       "4 2022-12-16 09:11:57            47.3               14.7       1455   \n",
       "\n",
       "         Date  Hour  \n",
       "0  2022-12-16     9  \n",
       "1  2022-12-16     9  \n",
       "2  2022-12-16     9  \n",
       "3  2022-12-16     9  \n",
       "4  2022-12-16     9  "
      ]
     },
     "execution_count": 46,
     "metadata": {},
     "output_type": "execute_result"
    }
   ],
   "source": [
    "df.head()"
   ]
  },
  {
   "cell_type": "code",
   "execution_count": 4,
   "id": "5e63f6d9",
   "metadata": {},
   "outputs": [],
   "source": [
    "df.to_csv('D:/Udemy projects/1 - Weather sensors/data.csv')"
   ]
  },
  {
   "cell_type": "code",
   "execution_count": 5,
   "id": "8432e08e",
   "metadata": {},
   "outputs": [
    {
     "data": {
      "text/plain": [
       "16.8"
      ]
     },
     "execution_count": 5,
     "metadata": {},
     "output_type": "execute_result"
    }
   ],
   "source": [
    "get_temp = df['InsideTemperature'].tail(1).iloc[0]\n",
    "get_temp"
   ]
  },
  {
   "cell_type": "code",
   "execution_count": 19,
   "id": "8cd411d0",
   "metadata": {},
   "outputs": [
    {
     "data": {
      "text/plain": [
       "array(['2022-12-16T00:00:00.000000000', '2022-12-17T00:00:00.000000000'],\n",
       "      dtype='datetime64[ns]')"
      ]
     },
     "execution_count": 19,
     "metadata": {},
     "output_type": "execute_result"
    }
   ],
   "source": [
    "unique_date = df['Date'].unique()\n",
    "unique_date"
   ]
  },
  {
   "cell_type": "code",
   "execution_count": 7,
   "id": "879d942f",
   "metadata": {},
   "outputs": [
    {
     "data": {
      "text/html": [
       "<div>\n",
       "<style scoped>\n",
       "    .dataframe tbody tr th:only-of-type {\n",
       "        vertical-align: middle;\n",
       "    }\n",
       "\n",
       "    .dataframe tbody tr th {\n",
       "        vertical-align: top;\n",
       "    }\n",
       "\n",
       "    .dataframe thead th {\n",
       "        text-align: right;\n",
       "    }\n",
       "</style>\n",
       "<table border=\"1\" class=\"dataframe\">\n",
       "  <thead>\n",
       "    <tr style=\"text-align: right;\">\n",
       "      <th></th>\n",
       "      <th>Date</th>\n",
       "      <th>Hour</th>\n",
       "      <th>InsideTemperature</th>\n",
       "    </tr>\n",
       "  </thead>\n",
       "  <tbody>\n",
       "    <tr>\n",
       "      <th>17344</th>\n",
       "      <td>2022-12-17</td>\n",
       "      <td>10</td>\n",
       "      <td>14.9</td>\n",
       "    </tr>\n",
       "    <tr>\n",
       "      <th>17345</th>\n",
       "      <td>2022-12-17</td>\n",
       "      <td>10</td>\n",
       "      <td>14.9</td>\n",
       "    </tr>\n",
       "    <tr>\n",
       "      <th>17346</th>\n",
       "      <td>2022-12-17</td>\n",
       "      <td>10</td>\n",
       "      <td>14.9</td>\n",
       "    </tr>\n",
       "    <tr>\n",
       "      <th>17347</th>\n",
       "      <td>2022-12-17</td>\n",
       "      <td>10</td>\n",
       "      <td>14.9</td>\n",
       "    </tr>\n",
       "    <tr>\n",
       "      <th>17348</th>\n",
       "      <td>2022-12-17</td>\n",
       "      <td>10</td>\n",
       "      <td>14.9</td>\n",
       "    </tr>\n",
       "    <tr>\n",
       "      <th>...</th>\n",
       "      <td>...</td>\n",
       "      <td>...</td>\n",
       "      <td>...</td>\n",
       "    </tr>\n",
       "    <tr>\n",
       "      <th>25539</th>\n",
       "      <td>2022-12-17</td>\n",
       "      <td>17</td>\n",
       "      <td>16.8</td>\n",
       "    </tr>\n",
       "    <tr>\n",
       "      <th>25540</th>\n",
       "      <td>2022-12-17</td>\n",
       "      <td>17</td>\n",
       "      <td>16.8</td>\n",
       "    </tr>\n",
       "    <tr>\n",
       "      <th>25541</th>\n",
       "      <td>2022-12-17</td>\n",
       "      <td>17</td>\n",
       "      <td>16.8</td>\n",
       "    </tr>\n",
       "    <tr>\n",
       "      <th>25542</th>\n",
       "      <td>2022-12-17</td>\n",
       "      <td>17</td>\n",
       "      <td>16.8</td>\n",
       "    </tr>\n",
       "    <tr>\n",
       "      <th>25543</th>\n",
       "      <td>2022-12-17</td>\n",
       "      <td>17</td>\n",
       "      <td>16.8</td>\n",
       "    </tr>\n",
       "  </tbody>\n",
       "</table>\n",
       "<p>8200 rows × 3 columns</p>\n",
       "</div>"
      ],
      "text/plain": [
       "            Date  Hour  InsideTemperature\n",
       "17344 2022-12-17    10               14.9\n",
       "17345 2022-12-17    10               14.9\n",
       "17346 2022-12-17    10               14.9\n",
       "17347 2022-12-17    10               14.9\n",
       "17348 2022-12-17    10               14.9\n",
       "...          ...   ...                ...\n",
       "25539 2022-12-17    17               16.8\n",
       "25540 2022-12-17    17               16.8\n",
       "25541 2022-12-17    17               16.8\n",
       "25542 2022-12-17    17               16.8\n",
       "25543 2022-12-17    17               16.8\n",
       "\n",
       "[8200 rows x 3 columns]"
      ]
     },
     "execution_count": 7,
     "metadata": {},
     "output_type": "execute_result"
    }
   ],
   "source": [
    "filter_today_date = df[df['Date'] == unique_date[-1]][['Date', 'Hour', 'InsideTemperature']]\n",
    "filter_today_date"
   ]
  },
  {
   "cell_type": "code",
   "execution_count": 8,
   "id": "c5ea2801",
   "metadata": {},
   "outputs": [
    {
     "data": {
      "text/html": [
       "<div>\n",
       "<style scoped>\n",
       "    .dataframe tbody tr th:only-of-type {\n",
       "        vertical-align: middle;\n",
       "    }\n",
       "\n",
       "    .dataframe tbody tr th {\n",
       "        vertical-align: top;\n",
       "    }\n",
       "\n",
       "    .dataframe thead th {\n",
       "        text-align: right;\n",
       "    }\n",
       "</style>\n",
       "<table border=\"1\" class=\"dataframe\">\n",
       "  <thead>\n",
       "    <tr style=\"text-align: right;\">\n",
       "      <th></th>\n",
       "      <th>Date</th>\n",
       "      <th>Hour</th>\n",
       "      <th>InsideTemperature</th>\n",
       "    </tr>\n",
       "  </thead>\n",
       "  <tbody>\n",
       "    <tr>\n",
       "      <th>0</th>\n",
       "      <td>2022-12-17</td>\n",
       "      <td>10</td>\n",
       "      <td>14.900000</td>\n",
       "    </tr>\n",
       "    <tr>\n",
       "      <th>1</th>\n",
       "      <td>2022-12-17</td>\n",
       "      <td>14</td>\n",
       "      <td>19.520374</td>\n",
       "    </tr>\n",
       "    <tr>\n",
       "      <th>2</th>\n",
       "      <td>2022-12-17</td>\n",
       "      <td>15</td>\n",
       "      <td>19.052053</td>\n",
       "    </tr>\n",
       "    <tr>\n",
       "      <th>3</th>\n",
       "      <td>2022-12-17</td>\n",
       "      <td>16</td>\n",
       "      <td>17.653833</td>\n",
       "    </tr>\n",
       "    <tr>\n",
       "      <th>4</th>\n",
       "      <td>2022-12-17</td>\n",
       "      <td>17</td>\n",
       "      <td>17.061446</td>\n",
       "    </tr>\n",
       "  </tbody>\n",
       "</table>\n",
       "</div>"
      ],
      "text/plain": [
       "        Date  Hour  InsideTemperature\n",
       "0 2022-12-17    10          14.900000\n",
       "1 2022-12-17    14          19.520374\n",
       "2 2022-12-17    15          19.052053\n",
       "3 2022-12-17    16          17.653833\n",
       "4 2022-12-17    17          17.061446"
      ]
     },
     "execution_count": 8,
     "metadata": {},
     "output_type": "execute_result"
    }
   ],
   "source": [
    "today_hourly_values = filter_today_date.groupby(['Date', 'Hour'])['InsideTemperature'].mean().reset_index()\n",
    "today_hourly_values"
   ]
  },
  {
   "cell_type": "code",
   "execution_count": 29,
   "id": "9ad13b88",
   "metadata": {},
   "outputs": [
    {
     "name": "stderr",
     "output_type": "stream",
     "text": [
      "Downloading: 100%|██████████████████████████████████████████████████████████| 25605/25605 [00:01<00:00, 22657.56rows/s]\n"
     ]
    }
   ],
   "source": [
    "df_sql = f\"\"\"SELECT\n",
    "             *\n",
    "             FROM\n",
    "             `weatherdata1.WeatherSensorsData1.SensorsData1`\n",
    "             ORDER BY\n",
    "             DateTime ASC\n",
    "             \"\"\"\n",
    "df = pd1.read_gbq(df_sql, project_id = project_id, dialect = 'standard', credentials = credentials)\n",
    "df['DateTime'] = pd.to_datetime(df['DateTime'])\n",
    "df['Date'] = df['DateTime'].dt.date\n",
    "df['Date'] = pd.to_datetime(df['Date'])\n",
    "df['Hour'] = pd.to_datetime(df['DateTime']).dt.hour"
   ]
  },
  {
   "cell_type": "code",
   "execution_count": 30,
   "id": "b49253f0",
   "metadata": {},
   "outputs": [
    {
     "data": {
      "text/plain": [
       "array(['2022-12-16T00:00:00.000000000', '2022-12-17T00:00:00.000000000'],\n",
       "      dtype='datetime64[ns]')"
      ]
     },
     "execution_count": 30,
     "metadata": {},
     "output_type": "execute_result"
    }
   ],
   "source": [
    "unique_date = df['Date'].unique()\n",
    "unique_date"
   ]
  },
  {
   "cell_type": "code",
   "execution_count": 32,
   "id": "8bc2f9c9",
   "metadata": {},
   "outputs": [
    {
     "data": {
      "text/plain": [
       "8261"
      ]
     },
     "execution_count": 32,
     "metadata": {},
     "output_type": "execute_result"
    }
   ],
   "source": [
    "filter_today_date = len(df[df['Date'] == unique_date[-1]])\n",
    "filter_today_date"
   ]
  },
  {
   "cell_type": "code",
   "execution_count": 33,
   "id": "5ec157ad",
   "metadata": {},
   "outputs": [
    {
     "data": {
      "text/plain": [
       "25605"
      ]
     },
     "execution_count": 33,
     "metadata": {},
     "output_type": "execute_result"
    }
   ],
   "source": [
    "filter_total_rows = len(df['Date'])\n",
    "filter_total_rows"
   ]
  },
  {
   "cell_type": "code",
   "execution_count": null,
   "id": "4ba2a9b4",
   "metadata": {},
   "outputs": [],
   "source": []
  }
 ],
 "metadata": {
  "kernelspec": {
   "display_name": "Python 3 (ipykernel)",
   "language": "python",
   "name": "python3"
  },
  "language_info": {
   "codemirror_mode": {
    "name": "ipython",
    "version": 3
   },
   "file_extension": ".py",
   "mimetype": "text/x-python",
   "name": "python",
   "nbconvert_exporter": "python",
   "pygments_lexer": "ipython3",
   "version": "3.9.12"
  }
 },
 "nbformat": 4,
 "nbformat_minor": 5
}
