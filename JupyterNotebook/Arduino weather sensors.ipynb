{
 "cells": [
  {
   "cell_type": "code",
   "execution_count": 37,
   "id": "4c47ef67",
   "metadata": {},
   "outputs": [],
   "source": [
    "from google.oauth2 import service_account\n",
    "import pandas_gbq as pd1\n",
    "import pandas as pd\n",
    "from datetime import datetime\n",
    "import pytz"
   ]
  },
  {
   "cell_type": "code",
   "execution_count": 31,
   "id": "e0327054",
   "metadata": {},
   "outputs": [
    {
     "name": "stderr",
     "output_type": "stream",
     "text": [
      "Downloading: 100%|█████████████████████████████████████████████████████████████| 1244/1244 [00:00<00:00, 9318.16rows/s]\n"
     ]
    }
   ],
   "source": [
    "credentials = service_account.Credentials.from_service_account_file('weatherdata1.json')\n",
    "project_id = 'weatherdata1'\n",
    "df_sql = f\"\"\"SELECT\n",
    "                 *\n",
    "                 FROM\n",
    "                 `weatherdata1.WeatherSensorsData1.SensorsData1`\n",
    "                 ORDER BY\n",
    "                 DateTime ASC\n",
    "                 \"\"\"\n",
    "df = pd1.read_gbq(df_sql, project_id = project_id, dialect = 'standard', credentials = credentials)\n",
    "df['DateTime'] = pd.to_datetime(df['DateTime'])\n",
    "df['Date'] = df['DateTime'].dt.date\n",
    "df['Date'] = pd.to_datetime(df['Date'])\n",
    "df['Hour'] = pd.to_datetime(df['DateTime']).dt.hour"
   ]
  },
  {
   "cell_type": "code",
   "execution_count": 32,
   "id": "8432e08e",
   "metadata": {},
   "outputs": [
    {
     "data": {
      "text/plain": [
       "16.8"
      ]
     },
     "execution_count": 32,
     "metadata": {},
     "output_type": "execute_result"
    }
   ],
   "source": [
    "get_temp = df['InsideTemperature'].tail(1).iloc[0]\n",
    "get_temp"
   ]
  },
  {
   "cell_type": "code",
   "execution_count": 33,
   "id": "8cd411d0",
   "metadata": {},
   "outputs": [
    {
     "data": {
      "text/plain": [
       "array(['2022-12-16T00:00:00.000000000'], dtype='datetime64[ns]')"
      ]
     },
     "execution_count": 33,
     "metadata": {},
     "output_type": "execute_result"
    }
   ],
   "source": [
    "unique_date = df['Date'].unique()\n",
    "unique_date"
   ]
  },
  {
   "cell_type": "code",
   "execution_count": 35,
   "id": "879d942f",
   "metadata": {},
   "outputs": [
    {
     "data": {
      "text/html": [
       "<div>\n",
       "<style scoped>\n",
       "    .dataframe tbody tr th:only-of-type {\n",
       "        vertical-align: middle;\n",
       "    }\n",
       "\n",
       "    .dataframe tbody tr th {\n",
       "        vertical-align: top;\n",
       "    }\n",
       "\n",
       "    .dataframe thead th {\n",
       "        text-align: right;\n",
       "    }\n",
       "</style>\n",
       "<table border=\"1\" class=\"dataframe\">\n",
       "  <thead>\n",
       "    <tr style=\"text-align: right;\">\n",
       "      <th></th>\n",
       "      <th>Date</th>\n",
       "      <th>Hour</th>\n",
       "      <th>InsideTemperature</th>\n",
       "    </tr>\n",
       "  </thead>\n",
       "  <tbody>\n",
       "    <tr>\n",
       "      <th>0</th>\n",
       "      <td>2022-12-16</td>\n",
       "      <td>9</td>\n",
       "      <td>14.7</td>\n",
       "    </tr>\n",
       "    <tr>\n",
       "      <th>1</th>\n",
       "      <td>2022-12-16</td>\n",
       "      <td>9</td>\n",
       "      <td>14.7</td>\n",
       "    </tr>\n",
       "    <tr>\n",
       "      <th>2</th>\n",
       "      <td>2022-12-16</td>\n",
       "      <td>9</td>\n",
       "      <td>14.7</td>\n",
       "    </tr>\n",
       "    <tr>\n",
       "      <th>3</th>\n",
       "      <td>2022-12-16</td>\n",
       "      <td>9</td>\n",
       "      <td>14.7</td>\n",
       "    </tr>\n",
       "    <tr>\n",
       "      <th>4</th>\n",
       "      <td>2022-12-16</td>\n",
       "      <td>9</td>\n",
       "      <td>14.7</td>\n",
       "    </tr>\n",
       "    <tr>\n",
       "      <th>...</th>\n",
       "      <td>...</td>\n",
       "      <td>...</td>\n",
       "      <td>...</td>\n",
       "    </tr>\n",
       "    <tr>\n",
       "      <th>1239</th>\n",
       "      <td>2022-12-16</td>\n",
       "      <td>9</td>\n",
       "      <td>16.8</td>\n",
       "    </tr>\n",
       "    <tr>\n",
       "      <th>1240</th>\n",
       "      <td>2022-12-16</td>\n",
       "      <td>9</td>\n",
       "      <td>16.8</td>\n",
       "    </tr>\n",
       "    <tr>\n",
       "      <th>1241</th>\n",
       "      <td>2022-12-16</td>\n",
       "      <td>9</td>\n",
       "      <td>16.8</td>\n",
       "    </tr>\n",
       "    <tr>\n",
       "      <th>1242</th>\n",
       "      <td>2022-12-16</td>\n",
       "      <td>9</td>\n",
       "      <td>16.8</td>\n",
       "    </tr>\n",
       "    <tr>\n",
       "      <th>1243</th>\n",
       "      <td>2022-12-16</td>\n",
       "      <td>9</td>\n",
       "      <td>16.8</td>\n",
       "    </tr>\n",
       "  </tbody>\n",
       "</table>\n",
       "<p>1244 rows × 3 columns</p>\n",
       "</div>"
      ],
      "text/plain": [
       "           Date  Hour  InsideTemperature\n",
       "0    2022-12-16     9               14.7\n",
       "1    2022-12-16     9               14.7\n",
       "2    2022-12-16     9               14.7\n",
       "3    2022-12-16     9               14.7\n",
       "4    2022-12-16     9               14.7\n",
       "...         ...   ...                ...\n",
       "1239 2022-12-16     9               16.8\n",
       "1240 2022-12-16     9               16.8\n",
       "1241 2022-12-16     9               16.8\n",
       "1242 2022-12-16     9               16.8\n",
       "1243 2022-12-16     9               16.8\n",
       "\n",
       "[1244 rows x 3 columns]"
      ]
     },
     "execution_count": 35,
     "metadata": {},
     "output_type": "execute_result"
    }
   ],
   "source": [
    "filter_today_date = df[df['Date'] == unique_date[-1]][['Date', 'Hour', 'InsideTemperature']]\n",
    "filter_today_date"
   ]
  },
  {
   "cell_type": "code",
   "execution_count": 36,
   "id": "c5ea2801",
   "metadata": {},
   "outputs": [
    {
     "data": {
      "text/html": [
       "<div>\n",
       "<style scoped>\n",
       "    .dataframe tbody tr th:only-of-type {\n",
       "        vertical-align: middle;\n",
       "    }\n",
       "\n",
       "    .dataframe tbody tr th {\n",
       "        vertical-align: top;\n",
       "    }\n",
       "\n",
       "    .dataframe thead th {\n",
       "        text-align: right;\n",
       "    }\n",
       "</style>\n",
       "<table border=\"1\" class=\"dataframe\">\n",
       "  <thead>\n",
       "    <tr style=\"text-align: right;\">\n",
       "      <th></th>\n",
       "      <th>Date</th>\n",
       "      <th>Hour</th>\n",
       "      <th>InsideTemperature</th>\n",
       "    </tr>\n",
       "  </thead>\n",
       "  <tbody>\n",
       "    <tr>\n",
       "      <th>0</th>\n",
       "      <td>2022-12-16</td>\n",
       "      <td>9</td>\n",
       "      <td>15.604502</td>\n",
       "    </tr>\n",
       "  </tbody>\n",
       "</table>\n",
       "</div>"
      ],
      "text/plain": [
       "        Date  Hour  InsideTemperature\n",
       "0 2022-12-16     9          15.604502"
      ]
     },
     "execution_count": 36,
     "metadata": {},
     "output_type": "execute_result"
    }
   ],
   "source": [
    "today_hourly_values = filter_today_date.groupby(['Date', 'Hour'])['InsideTemperature'].mean().reset_index()\n",
    "today_hourly_values"
   ]
  },
  {
   "cell_type": "code",
   "execution_count": null,
   "id": "9ad13b88",
   "metadata": {},
   "outputs": [],
   "source": []
  }
 ],
 "metadata": {
  "kernelspec": {
   "display_name": "Python 3 (ipykernel)",
   "language": "python",
   "name": "python3"
  },
  "language_info": {
   "codemirror_mode": {
    "name": "ipython",
    "version": 3
   },
   "file_extension": ".py",
   "mimetype": "text/x-python",
   "name": "python",
   "nbconvert_exporter": "python",
   "pygments_lexer": "ipython3",
   "version": "3.9.12"
  }
 },
 "nbformat": 4,
 "nbformat_minor": 5
}
