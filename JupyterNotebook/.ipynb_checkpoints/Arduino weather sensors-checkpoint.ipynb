{
 "cells": [
  {
   "cell_type": "code",
   "execution_count": 1,
   "id": "4c47ef67",
   "metadata": {},
   "outputs": [],
   "source": [
    "from google.oauth2 import service_account\n",
    "import pandas_gbq as pd1\n",
    "import pandas as pd\n",
    "from datetime import datetime"
   ]
  },
  {
   "cell_type": "code",
   "execution_count": 2,
   "id": "e0327054",
   "metadata": {},
   "outputs": [
    {
     "name": "stdout",
     "output_type": "stream",
     "text": [
      "Downloading: 100%|\u001b[32m████████████████████████████████████████████████████████████████████████████████████████████████████\u001b[0m|\u001b[0m\n"
     ]
    }
   ],
   "source": [
    "credentials = service_account.Credentials.from_service_account_file('weatherdata1.json')\n",
    "project_id = 'weatherdata1'\n",
    "df_sql = f\"\"\"SELECT\n",
    "                 *\n",
    "                 FROM\n",
    "                 `weatherdata1.WeatherSensorsData1.SensorsData1`\n",
    "                 ORDER BY\n",
    "                 DateTime ASC\n",
    "                 \"\"\"\n",
    "df = pd1.read_gbq(df_sql, project_id = project_id, dialect = 'standard', credentials = credentials)\n",
    "df['DateTime'] = pd.to_datetime(df['DateTime'])\n",
    "# df['DateTime'] = pd.to_datetime(df['DateTime'], format=\"%Y-%m-%d %H:%M:%S\")\n",
    "df['Date'] = df['DateTime'].dt.date\n",
    "# df['Date'] = pd.to_datetime(df['Date'])\n",
    "df['Hour'] = pd.to_datetime(df['DateTime']).dt.hour"
   ]
  },
  {
   "cell_type": "code",
   "execution_count": 3,
   "id": "9781a5fe",
   "metadata": {},
   "outputs": [
    {
     "data": {
      "text/html": [
       "<div>\n",
       "<style scoped>\n",
       "    .dataframe tbody tr th:only-of-type {\n",
       "        vertical-align: middle;\n",
       "    }\n",
       "\n",
       "    .dataframe tbody tr th {\n",
       "        vertical-align: top;\n",
       "    }\n",
       "\n",
       "    .dataframe thead th {\n",
       "        text-align: right;\n",
       "    }\n",
       "</style>\n",
       "<table border=\"1\" class=\"dataframe\">\n",
       "  <thead>\n",
       "    <tr style=\"text-align: right;\">\n",
       "      <th></th>\n",
       "      <th>DateTime</th>\n",
       "      <th>InsideHumidity</th>\n",
       "      <th>InsideTemperature</th>\n",
       "      <th>InsideCO2</th>\n",
       "      <th>OutsideHumidity</th>\n",
       "      <th>OutsideTemperature</th>\n",
       "      <th>OutsideCO2</th>\n",
       "      <th>Date</th>\n",
       "      <th>Hour</th>\n",
       "    </tr>\n",
       "  </thead>\n",
       "  <tbody>\n",
       "    <tr>\n",
       "      <th>0</th>\n",
       "      <td>2022-12-27 23:00:05</td>\n",
       "      <td>55.5</td>\n",
       "      <td>18.7</td>\n",
       "      <td>1087</td>\n",
       "      <td>92.2</td>\n",
       "      <td>8.2</td>\n",
       "      <td>2080</td>\n",
       "      <td>2022-12-27</td>\n",
       "      <td>23</td>\n",
       "    </tr>\n",
       "    <tr>\n",
       "      <th>1</th>\n",
       "      <td>2022-12-27 23:00:10</td>\n",
       "      <td>55.5</td>\n",
       "      <td>18.7</td>\n",
       "      <td>1087</td>\n",
       "      <td>92.3</td>\n",
       "      <td>8.2</td>\n",
       "      <td>2080</td>\n",
       "      <td>2022-12-27</td>\n",
       "      <td>23</td>\n",
       "    </tr>\n",
       "    <tr>\n",
       "      <th>2</th>\n",
       "      <td>2022-12-27 23:00:15</td>\n",
       "      <td>55.5</td>\n",
       "      <td>18.7</td>\n",
       "      <td>1087</td>\n",
       "      <td>92.2</td>\n",
       "      <td>8.2</td>\n",
       "      <td>2080</td>\n",
       "      <td>2022-12-27</td>\n",
       "      <td>23</td>\n",
       "    </tr>\n",
       "    <tr>\n",
       "      <th>3</th>\n",
       "      <td>2022-12-27 23:00:20</td>\n",
       "      <td>55.5</td>\n",
       "      <td>18.7</td>\n",
       "      <td>1087</td>\n",
       "      <td>92.2</td>\n",
       "      <td>8.2</td>\n",
       "      <td>2080</td>\n",
       "      <td>2022-12-27</td>\n",
       "      <td>23</td>\n",
       "    </tr>\n",
       "    <tr>\n",
       "      <th>4</th>\n",
       "      <td>2022-12-27 23:00:25</td>\n",
       "      <td>55.6</td>\n",
       "      <td>18.7</td>\n",
       "      <td>1087</td>\n",
       "      <td>92.2</td>\n",
       "      <td>8.2</td>\n",
       "      <td>2080</td>\n",
       "      <td>2022-12-27</td>\n",
       "      <td>23</td>\n",
       "    </tr>\n",
       "  </tbody>\n",
       "</table>\n",
       "</div>"
      ],
      "text/plain": [
       "             DateTime  InsideHumidity  InsideTemperature  InsideCO2  \\\n",
       "0 2022-12-27 23:00:05            55.5               18.7       1087   \n",
       "1 2022-12-27 23:00:10            55.5               18.7       1087   \n",
       "2 2022-12-27 23:00:15            55.5               18.7       1087   \n",
       "3 2022-12-27 23:00:20            55.5               18.7       1087   \n",
       "4 2022-12-27 23:00:25            55.6               18.7       1087   \n",
       "\n",
       "   OutsideHumidity  OutsideTemperature  OutsideCO2        Date  Hour  \n",
       "0             92.2                 8.2        2080  2022-12-27    23  \n",
       "1             92.3                 8.2        2080  2022-12-27    23  \n",
       "2             92.2                 8.2        2080  2022-12-27    23  \n",
       "3             92.2                 8.2        2080  2022-12-27    23  \n",
       "4             92.2                 8.2        2080  2022-12-27    23  "
      ]
     },
     "execution_count": 3,
     "metadata": {},
     "output_type": "execute_result"
    }
   ],
   "source": [
    "df.head()"
   ]
  },
  {
   "cell_type": "code",
   "execution_count": 4,
   "id": "5e63f6d9",
   "metadata": {},
   "outputs": [],
   "source": [
    "df.to_csv('D:/Udemy projects/1 - Weather sensors/data.csv')"
   ]
  },
  {
   "cell_type": "code",
   "execution_count": 5,
   "id": "8432e08e",
   "metadata": {},
   "outputs": [
    {
     "data": {
      "text/plain": [
       "17.7"
      ]
     },
     "execution_count": 5,
     "metadata": {},
     "output_type": "execute_result"
    }
   ],
   "source": [
    "get_temp = df['InsideTemperature'].tail(1).iloc[0]\n",
    "get_temp"
   ]
  },
  {
   "cell_type": "code",
   "execution_count": 6,
   "id": "8cd411d0",
   "metadata": {},
   "outputs": [
    {
     "data": {
      "text/plain": [
       "array([datetime.date(2022, 12, 27), datetime.date(2022, 12, 28)],\n",
       "      dtype=object)"
      ]
     },
     "execution_count": 6,
     "metadata": {},
     "output_type": "execute_result"
    }
   ],
   "source": [
    "unique_date = df['Date'].unique()\n",
    "unique_date"
   ]
  },
  {
   "cell_type": "code",
   "execution_count": 7,
   "id": "879d942f",
   "metadata": {},
   "outputs": [
    {
     "data": {
      "text/html": [
       "<div>\n",
       "<style scoped>\n",
       "    .dataframe tbody tr th:only-of-type {\n",
       "        vertical-align: middle;\n",
       "    }\n",
       "\n",
       "    .dataframe tbody tr th {\n",
       "        vertical-align: top;\n",
       "    }\n",
       "\n",
       "    .dataframe thead th {\n",
       "        text-align: right;\n",
       "    }\n",
       "</style>\n",
       "<table border=\"1\" class=\"dataframe\">\n",
       "  <thead>\n",
       "    <tr style=\"text-align: right;\">\n",
       "      <th></th>\n",
       "      <th>Date</th>\n",
       "      <th>Hour</th>\n",
       "      <th>InsideTemperature</th>\n",
       "    </tr>\n",
       "  </thead>\n",
       "  <tbody>\n",
       "    <tr>\n",
       "      <th>717</th>\n",
       "      <td>2022-12-28</td>\n",
       "      <td>0</td>\n",
       "      <td>18.4</td>\n",
       "    </tr>\n",
       "    <tr>\n",
       "      <th>718</th>\n",
       "      <td>2022-12-28</td>\n",
       "      <td>0</td>\n",
       "      <td>18.4</td>\n",
       "    </tr>\n",
       "    <tr>\n",
       "      <th>719</th>\n",
       "      <td>2022-12-28</td>\n",
       "      <td>0</td>\n",
       "      <td>18.4</td>\n",
       "    </tr>\n",
       "    <tr>\n",
       "      <th>720</th>\n",
       "      <td>2022-12-28</td>\n",
       "      <td>0</td>\n",
       "      <td>18.4</td>\n",
       "    </tr>\n",
       "    <tr>\n",
       "      <th>721</th>\n",
       "      <td>2022-12-28</td>\n",
       "      <td>0</td>\n",
       "      <td>18.5</td>\n",
       "    </tr>\n",
       "    <tr>\n",
       "      <th>...</th>\n",
       "      <td>...</td>\n",
       "      <td>...</td>\n",
       "      <td>...</td>\n",
       "    </tr>\n",
       "    <tr>\n",
       "      <th>11460</th>\n",
       "      <td>2022-12-28</td>\n",
       "      <td>16</td>\n",
       "      <td>17.7</td>\n",
       "    </tr>\n",
       "    <tr>\n",
       "      <th>11461</th>\n",
       "      <td>2022-12-28</td>\n",
       "      <td>16</td>\n",
       "      <td>17.7</td>\n",
       "    </tr>\n",
       "    <tr>\n",
       "      <th>11462</th>\n",
       "      <td>2022-12-28</td>\n",
       "      <td>16</td>\n",
       "      <td>17.7</td>\n",
       "    </tr>\n",
       "    <tr>\n",
       "      <th>11463</th>\n",
       "      <td>2022-12-28</td>\n",
       "      <td>16</td>\n",
       "      <td>17.7</td>\n",
       "    </tr>\n",
       "    <tr>\n",
       "      <th>11464</th>\n",
       "      <td>2022-12-28</td>\n",
       "      <td>16</td>\n",
       "      <td>17.7</td>\n",
       "    </tr>\n",
       "  </tbody>\n",
       "</table>\n",
       "<p>10748 rows × 3 columns</p>\n",
       "</div>"
      ],
      "text/plain": [
       "             Date  Hour  InsideTemperature\n",
       "717    2022-12-28     0               18.4\n",
       "718    2022-12-28     0               18.4\n",
       "719    2022-12-28     0               18.4\n",
       "720    2022-12-28     0               18.4\n",
       "721    2022-12-28     0               18.5\n",
       "...           ...   ...                ...\n",
       "11460  2022-12-28    16               17.7\n",
       "11461  2022-12-28    16               17.7\n",
       "11462  2022-12-28    16               17.7\n",
       "11463  2022-12-28    16               17.7\n",
       "11464  2022-12-28    16               17.7\n",
       "\n",
       "[10748 rows x 3 columns]"
      ]
     },
     "execution_count": 7,
     "metadata": {},
     "output_type": "execute_result"
    }
   ],
   "source": [
    "filter_today_date = df[df['Date'] == unique_date[-1]][['Date', 'Hour', 'InsideTemperature']]\n",
    "filter_today_date"
   ]
  },
  {
   "cell_type": "code",
   "execution_count": 8,
   "id": "c5ea2801",
   "metadata": {},
   "outputs": [
    {
     "data": {
      "text/html": [
       "<div>\n",
       "<style scoped>\n",
       "    .dataframe tbody tr th:only-of-type {\n",
       "        vertical-align: middle;\n",
       "    }\n",
       "\n",
       "    .dataframe tbody tr th {\n",
       "        vertical-align: top;\n",
       "    }\n",
       "\n",
       "    .dataframe thead th {\n",
       "        text-align: right;\n",
       "    }\n",
       "</style>\n",
       "<table border=\"1\" class=\"dataframe\">\n",
       "  <thead>\n",
       "    <tr style=\"text-align: right;\">\n",
       "      <th></th>\n",
       "      <th>Date</th>\n",
       "      <th>Hour</th>\n",
       "      <th>InsideTemperature</th>\n",
       "    </tr>\n",
       "  </thead>\n",
       "  <tbody>\n",
       "    <tr>\n",
       "      <th>0</th>\n",
       "      <td>2022-12-28</td>\n",
       "      <td>0</td>\n",
       "      <td>18.372841</td>\n",
       "    </tr>\n",
       "    <tr>\n",
       "      <th>1</th>\n",
       "      <td>2022-12-28</td>\n",
       "      <td>1</td>\n",
       "      <td>17.822594</td>\n",
       "    </tr>\n",
       "    <tr>\n",
       "      <th>2</th>\n",
       "      <td>2022-12-28</td>\n",
       "      <td>2</td>\n",
       "      <td>16.834540</td>\n",
       "    </tr>\n",
       "    <tr>\n",
       "      <th>3</th>\n",
       "      <td>2022-12-28</td>\n",
       "      <td>3</td>\n",
       "      <td>16.437517</td>\n",
       "    </tr>\n",
       "    <tr>\n",
       "      <th>4</th>\n",
       "      <td>2022-12-28</td>\n",
       "      <td>4</td>\n",
       "      <td>16.070613</td>\n",
       "    </tr>\n",
       "    <tr>\n",
       "      <th>5</th>\n",
       "      <td>2022-12-28</td>\n",
       "      <td>5</td>\n",
       "      <td>15.745125</td>\n",
       "    </tr>\n",
       "    <tr>\n",
       "      <th>6</th>\n",
       "      <td>2022-12-28</td>\n",
       "      <td>6</td>\n",
       "      <td>15.501953</td>\n",
       "    </tr>\n",
       "    <tr>\n",
       "      <th>7</th>\n",
       "      <td>2022-12-28</td>\n",
       "      <td>7</td>\n",
       "      <td>15.284819</td>\n",
       "    </tr>\n",
       "    <tr>\n",
       "      <th>8</th>\n",
       "      <td>2022-12-28</td>\n",
       "      <td>8</td>\n",
       "      <td>15.134868</td>\n",
       "    </tr>\n",
       "    <tr>\n",
       "      <th>9</th>\n",
       "      <td>2022-12-28</td>\n",
       "      <td>9</td>\n",
       "      <td>15.409958</td>\n",
       "    </tr>\n",
       "    <tr>\n",
       "      <th>10</th>\n",
       "      <td>2022-12-28</td>\n",
       "      <td>10</td>\n",
       "      <td>17.425905</td>\n",
       "    </tr>\n",
       "    <tr>\n",
       "      <th>11</th>\n",
       "      <td>2022-12-28</td>\n",
       "      <td>11</td>\n",
       "      <td>18.611576</td>\n",
       "    </tr>\n",
       "    <tr>\n",
       "      <th>12</th>\n",
       "      <td>2022-12-28</td>\n",
       "      <td>12</td>\n",
       "      <td>19.060306</td>\n",
       "    </tr>\n",
       "    <tr>\n",
       "      <th>13</th>\n",
       "      <td>2022-12-28</td>\n",
       "      <td>13</td>\n",
       "      <td>18.214731</td>\n",
       "    </tr>\n",
       "    <tr>\n",
       "      <th>14</th>\n",
       "      <td>2022-12-28</td>\n",
       "      <td>14</td>\n",
       "      <td>17.352507</td>\n",
       "    </tr>\n",
       "    <tr>\n",
       "      <th>15</th>\n",
       "      <td>2022-12-28</td>\n",
       "      <td>15</td>\n",
       "      <td>17.033557</td>\n",
       "    </tr>\n",
       "    <tr>\n",
       "      <th>16</th>\n",
       "      <td>2022-12-28</td>\n",
       "      <td>16</td>\n",
       "      <td>17.334783</td>\n",
       "    </tr>\n",
       "  </tbody>\n",
       "</table>\n",
       "</div>"
      ],
      "text/plain": [
       "          Date  Hour  InsideTemperature\n",
       "0   2022-12-28     0          18.372841\n",
       "1   2022-12-28     1          17.822594\n",
       "2   2022-12-28     2          16.834540\n",
       "3   2022-12-28     3          16.437517\n",
       "4   2022-12-28     4          16.070613\n",
       "5   2022-12-28     5          15.745125\n",
       "6   2022-12-28     6          15.501953\n",
       "7   2022-12-28     7          15.284819\n",
       "8   2022-12-28     8          15.134868\n",
       "9   2022-12-28     9          15.409958\n",
       "10  2022-12-28    10          17.425905\n",
       "11  2022-12-28    11          18.611576\n",
       "12  2022-12-28    12          19.060306\n",
       "13  2022-12-28    13          18.214731\n",
       "14  2022-12-28    14          17.352507\n",
       "15  2022-12-28    15          17.033557\n",
       "16  2022-12-28    16          17.334783"
      ]
     },
     "execution_count": 8,
     "metadata": {},
     "output_type": "execute_result"
    }
   ],
   "source": [
    "today_hourly_values = filter_today_date.groupby(['Date', 'Hour'])['InsideTemperature'].mean().reset_index()\n",
    "today_hourly_values"
   ]
  },
  {
   "cell_type": "code",
   "execution_count": 9,
   "id": "9ad13b88",
   "metadata": {},
   "outputs": [
    {
     "name": "stdout",
     "output_type": "stream",
     "text": [
      "Downloading: 100%|\u001b[32m████████████████████████████████████████████████████████████████████████████████████████████████████\u001b[0m|\u001b[0m\n"
     ]
    }
   ],
   "source": [
    "df_sql = f\"\"\"SELECT\n",
    "             *\n",
    "             FROM\n",
    "             `weatherdata1.WeatherSensorsData1.SensorsData1`\n",
    "             ORDER BY\n",
    "             DateTime ASC\n",
    "             \"\"\"\n",
    "df = pd1.read_gbq(df_sql, project_id = project_id, dialect = 'standard', credentials = credentials)\n",
    "df['DateTime'] = pd.to_datetime(df['DateTime'])\n",
    "df['Date'] = df['DateTime'].dt.date\n",
    "df['Date'] = pd.to_datetime(df['Date'])\n",
    "df['Hour'] = pd.to_datetime(df['DateTime']).dt.hour"
   ]
  },
  {
   "cell_type": "code",
   "execution_count": 10,
   "id": "b49253f0",
   "metadata": {},
   "outputs": [
    {
     "data": {
      "text/plain": [
       "array(['2022-12-27T00:00:00.000000000', '2022-12-28T00:00:00.000000000'],\n",
       "      dtype='datetime64[ns]')"
      ]
     },
     "execution_count": 10,
     "metadata": {},
     "output_type": "execute_result"
    }
   ],
   "source": [
    "unique_date = df['Date'].unique()\n",
    "unique_date"
   ]
  },
  {
   "cell_type": "code",
   "execution_count": 11,
   "id": "8bc2f9c9",
   "metadata": {},
   "outputs": [
    {
     "data": {
      "text/plain": [
       "10748"
      ]
     },
     "execution_count": 11,
     "metadata": {},
     "output_type": "execute_result"
    }
   ],
   "source": [
    "filter_today_date = len(df[df['Date'] == unique_date[-1]])\n",
    "filter_today_date"
   ]
  },
  {
   "cell_type": "code",
   "execution_count": 12,
   "id": "5ec157ad",
   "metadata": {},
   "outputs": [
    {
     "data": {
      "text/plain": [
       "11465"
      ]
     },
     "execution_count": 12,
     "metadata": {},
     "output_type": "execute_result"
    }
   ],
   "source": [
    "filter_total_rows = len(df['Date'])\n",
    "filter_total_rows"
   ]
  },
  {
   "cell_type": "code",
   "execution_count": null,
   "id": "4ba2a9b4",
   "metadata": {},
   "outputs": [],
   "source": []
  }
 ],
 "metadata": {
  "kernelspec": {
   "display_name": "Python 3 (ipykernel)",
   "language": "python",
   "name": "python3"
  },
  "language_info": {
   "codemirror_mode": {
    "name": "ipython",
    "version": 3
   },
   "file_extension": ".py",
   "mimetype": "text/x-python",
   "name": "python",
   "nbconvert_exporter": "python",
   "pygments_lexer": "ipython3",
   "version": "3.9.13"
  }
 },
 "nbformat": 4,
 "nbformat_minor": 5
}
